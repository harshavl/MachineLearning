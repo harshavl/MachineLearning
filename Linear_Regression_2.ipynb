{
 "cells": [
  {
   "cell_type": "markdown",
   "metadata": {},
   "source": [
    "**Linear Regression Model **"
   ]
  },
  {
   "cell_type": "markdown",
   "metadata": {},
   "source": [
    "\n",
    "*Section 1: Basics of LR * <br>\n",
    "Build models that predict the final sale price from other attributs.<br>\n",
    "Which properties of a house most affect the final sale price? <br>\n",
    "How effectively can we predict the sale price from just its properties? <br>\n"
   ]
  },
  {
   "cell_type": "code",
   "execution_count": 39,
   "metadata": {
    "collapsed": true
   },
   "outputs": [],
   "source": [
    "import pandas as pd\n",
    "import matplotlib.pyplot as plt\n",
    "import seaborn as sns\n",
    "import numpy as np\n",
    "\n",
    "from sklearn.linear_model import LinearRegression\n",
    "from sklearn.metrics import mean_squared_error\n",
    "\n",
    "import warnings\n",
    "warnings.filterwarnings(\"ignore\")"
   ]
  },
  {
   "cell_type": "code",
   "execution_count": 3,
   "metadata": {},
   "outputs": [
    {
     "name": "stdout",
     "output_type": "stream",
     "text": [
      "<class 'pandas.core.frame.DataFrame'>\n",
      "RangeIndex: 1460 entries, 0 to 1459\n",
      "Data columns (total 82 columns):\n",
      "Order              1460 non-null int64\n",
      "PID                1460 non-null int64\n",
      "MS SubClass        1460 non-null int64\n",
      "MS Zoning          1460 non-null object\n",
      "Lot Frontage       1211 non-null float64\n",
      "Lot Area           1460 non-null int64\n",
      "Street             1460 non-null object\n",
      "Alley              109 non-null object\n",
      "Lot Shape          1460 non-null object\n",
      "Land Contour       1460 non-null object\n",
      "Utilities          1460 non-null object\n",
      "Lot Config         1460 non-null object\n",
      "Land Slope         1460 non-null object\n",
      "Neighborhood       1460 non-null object\n",
      "Condition 1        1460 non-null object\n",
      "Condition 2        1460 non-null object\n",
      "Bldg Type          1460 non-null object\n",
      "House Style        1460 non-null object\n",
      "Overall Qual       1460 non-null int64\n",
      "Overall Cond       1460 non-null int64\n",
      "Year Built         1460 non-null int64\n",
      "Year Remod/Add     1460 non-null int64\n",
      "Roof Style         1460 non-null object\n",
      "Roof Matl          1460 non-null object\n",
      "Exterior 1st       1460 non-null object\n",
      "Exterior 2nd       1460 non-null object\n",
      "Mas Vnr Type       1449 non-null object\n",
      "Mas Vnr Area       1449 non-null float64\n",
      "Exter Qual         1460 non-null object\n",
      "Exter Cond         1460 non-null object\n",
      "Foundation         1460 non-null object\n",
      "Bsmt Qual          1420 non-null object\n",
      "Bsmt Cond          1420 non-null object\n",
      "Bsmt Exposure      1419 non-null object\n",
      "BsmtFin Type 1     1420 non-null object\n",
      "BsmtFin SF 1       1459 non-null float64\n",
      "BsmtFin Type 2     1419 non-null object\n",
      "BsmtFin SF 2       1459 non-null float64\n",
      "Bsmt Unf SF        1459 non-null float64\n",
      "Total Bsmt SF      1459 non-null float64\n",
      "Heating            1460 non-null object\n",
      "Heating QC         1460 non-null object\n",
      "Central Air        1460 non-null object\n",
      "Electrical         1460 non-null object\n",
      "1st Flr SF         1460 non-null int64\n",
      "2nd Flr SF         1460 non-null int64\n",
      "Low Qual Fin SF    1460 non-null int64\n",
      "Gr Liv Area        1460 non-null int64\n",
      "Bsmt Full Bath     1459 non-null float64\n",
      "Bsmt Half Bath     1459 non-null float64\n",
      "Full Bath          1460 non-null int64\n",
      "Half Bath          1460 non-null int64\n",
      "Bedroom AbvGr      1460 non-null int64\n",
      "Kitchen AbvGr      1460 non-null int64\n",
      "Kitchen Qual       1460 non-null object\n",
      "TotRms AbvGrd      1460 non-null int64\n",
      "Functional         1460 non-null object\n",
      "Fireplaces         1460 non-null int64\n",
      "Fireplace Qu       743 non-null object\n",
      "Garage Type        1386 non-null object\n",
      "Garage Yr Blt      1385 non-null float64\n",
      "Garage Finish      1385 non-null object\n",
      "Garage Cars        1460 non-null float64\n",
      "Garage Area        1460 non-null float64\n",
      "Garage Qual        1385 non-null object\n",
      "Garage Cond        1385 non-null object\n",
      "Paved Drive        1460 non-null object\n",
      "Wood Deck SF       1460 non-null int64\n",
      "Open Porch SF      1460 non-null int64\n",
      "Enclosed Porch     1460 non-null int64\n",
      "3Ssn Porch         1460 non-null int64\n",
      "Screen Porch       1460 non-null int64\n",
      "Pool Area          1460 non-null int64\n",
      "Pool QC            1 non-null object\n",
      "Fence              297 non-null object\n",
      "Misc Feature       60 non-null object\n",
      "Misc Val           1460 non-null int64\n",
      "Mo Sold            1460 non-null int64\n",
      "Yr Sold            1460 non-null int64\n",
      "Sale Type          1460 non-null object\n",
      "Sale Condition     1460 non-null object\n",
      "SalePrice          1460 non-null int64\n",
      "dtypes: float64(11), int64(28), object(43)\n",
      "memory usage: 935.4+ KB\n"
     ]
    }
   ],
   "source": [
    "data = pd.read_csv('AmesHousing-1.txt', delimiter='\\t')\n",
    "train = data[0:1460]\n",
    "test = data[1460:]\n",
    "\n",
    "train.info()"
   ]
  },
  {
   "cell_type": "markdown",
   "metadata": {},
   "source": [
    "Simple Linear Regression: $\\hat{y} = a_1x_1 + a_0$"
   ]
  },
  {
   "cell_type": "code",
   "execution_count": 6,
   "metadata": {},
   "outputs": [
    {
     "data": {
      "image/png": "[encoded data removed]",
      "text/plain": [
       "<matplotlib.figure.Figure at 0x11585c4e0>"
      ]
     },
     "metadata": {},
     "output_type": "display_data"
    }
   ],
   "source": [
    "fig = plt.figure(figsize=(7,15))\n",
    "\n",
    "ax1 = fig.add_subplot(3, 1, 1)\n",
    "ax2 = fig.add_subplot(3, 1, 2)\n",
    "ax3 = fig.add_subplot(3, 1, 3)\n",
    "\n",
    "train.plot(x=\"Garage Area\", y=\"SalePrice\", ax=ax1, kind=\"scatter\")\n",
    "train.plot(x=\"Gr Liv Area\", y=\"SalePrice\", ax=ax2, kind=\"scatter\")\n",
    "train.plot(x=\"Overall Cond\", y=\"SalePrice\", ax=ax3, kind=\"scatter\")\n",
    "\n",
    "plt.show()"
   ]
  },
  {
   "cell_type": "markdown",
   "metadata": {},
   "source": [
    "Obsrvation: Gr Liv Area vs Price feature correlates the most and confirm using correlation b/w pairs.<br>"
   ]
  },
  {
   "cell_type": "code",
   "execution_count": 7,
   "metadata": {},
   "outputs": [
    {
     "data": {
      "text/html": [
       "<div>\n",
       "<table border=\"1\" class=\"dataframe\">\n",
       "  <thead>\n",
       "    <tr style=\"text-align: right;\">\n",
       "      <th></th>\n",
       "      <th>Garage Area</th>\n",
       "      <th>Gr Liv Area</th>\n",
       "      <th>Overall Cond</th>\n",
       "      <th>SalePrice</th>\n",
       "    </tr>\n",
       "  </thead>\n",
       "  <tbody>\n",
       "    <tr>\n",
       "      <th>Garage Area</th>\n",
       "      <td>1.000000</td>\n",
       "      <td>0.465366</td>\n",
       "      <td>-0.132401</td>\n",
       "      <td>0.662397</td>\n",
       "    </tr>\n",
       "    <tr>\n",
       "      <th>Gr Liv Area</th>\n",
       "      <td>0.465366</td>\n",
       "      <td>1.000000</td>\n",
       "      <td>-0.133710</td>\n",
       "      <td>0.698990</td>\n",
       "    </tr>\n",
       "    <tr>\n",
       "      <th>Overall Cond</th>\n",
       "      <td>-0.132401</td>\n",
       "      <td>-0.133710</td>\n",
       "      <td>1.000000</td>\n",
       "      <td>-0.099395</td>\n",
       "    </tr>\n",
       "    <tr>\n",
       "      <th>SalePrice</th>\n",
       "      <td>0.662397</td>\n",
       "      <td>0.698990</td>\n",
       "      <td>-0.099395</td>\n",
       "      <td>1.000000</td>\n",
       "    </tr>\n",
       "  </tbody>\n",
       "</table>\n",
       "</div>"
      ],
      "text/plain": [
       "              Garage Area  Gr Liv Area  Overall Cond  SalePrice\n",
       "Garage Area      1.000000     0.465366     -0.132401   0.662397\n",
       "Gr Liv Area      0.465366     1.000000     -0.133710   0.698990\n",
       "Overall Cond    -0.132401    -0.133710      1.000000  -0.099395\n",
       "SalePrice        0.662397     0.698990     -0.099395   1.000000"
      ]
     },
     "execution_count": 7,
     "metadata": {},
     "output_type": "execute_result"
    }
   ],
   "source": [
    "train[['Garage Area', 'Gr Liv Area', 'Overall Cond', 'SalePrice']].corr()"
   ]
  },
  {
   "cell_type": "markdown",
   "metadata": {},
   "source": [
    "Correlation b/w Gr Liv Area and Price which is Highest ( Stronger is 1 ). <br>\n",
    "$ \\hat{y} = a_1*Gr \\ Liv \\ Area + a_0 $ <br>\n",
    "\n",
    "residual sum of squares (RSS): <br>\n",
    "\n",
    "$RSS = (y_1 - \\hat{y_1})^2 +  (y_2 - \\hat{y_2})^2 + ... + (y_n - \\hat{y_n})^2$ <br>\n",
    "\n",
    "$RSS = \\sum_{i=1}^{n} (y_i - \\hat{y_i})^2 $ <br>\n",
    "This looks similar to find MSE:  $ MSE = \\frac{1}{n} \\sum_{i=1}^{n} (y_i - \\hat{y_i})^2 $ <br>\n",
    "\n",
    "Goal is minimize the RSS."
   ]
  },
  {
   "cell_type": "code",
   "execution_count": 12,
   "metadata": {},
   "outputs": [
    {
     "name": "stdout",
     "output_type": "stream",
     "text": [
      "[116.86624683]\n",
      "5366.821710056043\n"
     ]
    }
   ],
   "source": [
    "from sklearn.linear_model import LinearRegression\n",
    "lr = LinearRegression()\n",
    "lr.fit(train[['Gr Liv Area']], train['SalePrice'])\n",
    "print(lr.coef_)\n",
    "print(lr.intercept_)\n",
    "\n",
    "a0 = lr.intercept_\n",
    "a1 = lr.coef_"
   ]
  },
  {
   "cell_type": "markdown",
   "metadata": {},
   "source": [
    "Univariant LR model b/w Gr Liv Area and SalePrice: $ \\hat{y} = 116.86624683x_1 + 5366.82171006 $ <br>\n",
    "\n",
    "Let's find the RMSE value for test and train.<br>"
   ]
  },
  {
   "cell_type": "code",
   "execution_count": 15,
   "metadata": {},
   "outputs": [
    {
     "name": "stdout",
     "output_type": "stream",
     "text": [
      "56034.362001412796\n",
      "57088.25161263909\n"
     ]
    }
   ],
   "source": [
    "\n",
    "lr = LinearRegression()\n",
    "lr.fit(train[['Gr Liv Area']], train['SalePrice'])\n",
    "from sklearn.metrics import mean_squared_error\n",
    "\n",
    "train_predictions = lr.predict(train[['Gr Liv Area']])\n",
    "test_predictions = lr.predict(test[['Gr Liv Area']])\n",
    "\n",
    "train_mse = mean_squared_error(train_predictions, train['SalePrice'])\n",
    "test_mse = mean_squared_error(test_predictions, test['SalePrice'])\n",
    "\n",
    "train_rmse = np.sqrt(train_mse)\n",
    "test_rmse = np.sqrt(test_mse)\n",
    "\n",
    "print(train_rmse)\n",
    "print(test_rmse)"
   ]
  },
  {
   "cell_type": "markdown",
   "metadata": {},
   "source": [
    "Multivariate LR uses multiple feature: $\\hat{y} = a_0 + a_1x_1 + a_2x_2 + ... + a_nx_n$ <br>\n",
    "Challenges: selecting relevant features ( Overall Cond and Gr Liv Area )\n",
    "find RMSE for train and test.<br>"
   ]
  },
  {
   "cell_type": "code",
   "execution_count": 16,
   "metadata": {},
   "outputs": [
    {
     "name": "stdout",
     "output_type": "stream",
     "text": [
      "56032.39801525867\n",
      "57066.90779448559\n"
     ]
    }
   ],
   "source": [
    "cols = ['Overall Cond', 'Gr Liv Area']\n",
    "lr.fit(train[cols], train['SalePrice'])\n",
    "train_predictions = lr.predict(train[cols])\n",
    "test_predictions = lr.predict(test[cols])\n",
    "\n",
    "train_rmse_2 = np.sqrt(mean_squared_error(train_predictions, train['SalePrice']))\n",
    "test_rmse_2 = np.sqrt(mean_squared_error(test_predictions, test['SalePrice']))\n",
    "\n",
    "print(train_rmse_2)\n",
    "print(test_rmse_2)"
   ]
  },
  {
   "cell_type": "markdown",
   "metadata": {},
   "source": [
    "*Section 2: Feature Selection * <br>"
   ]
  },
  {
   "cell_type": "code",
   "execution_count": 27,
   "metadata": {},
   "outputs": [
    {
     "name": "stdout",
     "output_type": "stream",
     "text": [
      "Order              0\n",
      "MS SubClass        0\n",
      "Lot Area           0\n",
      "Overall Qual       0\n",
      "Overall Cond       0\n",
      "1st Flr SF         0\n",
      "2nd Flr SF         0\n",
      "Low Qual Fin SF    0\n",
      "Gr Liv Area        0\n",
      "Full Bath          0\n",
      "Half Bath          0\n",
      "Bedroom AbvGr      0\n",
      "Kitchen AbvGr      0\n",
      "TotRms AbvGrd      0\n",
      "Fireplaces         0\n",
      "Garage Cars        0\n",
      "Garage Area        0\n",
      "Wood Deck SF       0\n",
      "Open Porch SF      0\n",
      "Enclosed Porch     0\n",
      "3Ssn Porch         0\n",
      "Screen Porch       0\n",
      "Pool Area          0\n",
      "Misc Val           0\n",
      "SalePrice          0\n",
      "dtype: int64\n"
     ]
    }
   ],
   "source": [
    "#Keep only the col's no missing values:\n",
    "data = pd.read_csv('AmesHousing-1.txt', delimiter=\"\\t\")\n",
    "train = data[0:1460]\n",
    "test = data[1460:]\n",
    "\n",
    "numerical_train = train.select_dtypes(include=['int', 'float'])\n",
    "numerical_train = numerical_train.drop(['PID', 'Year Built', 'Year Remod/Add', 'Garage Yr Blt', 'Mo Sold', 'Yr Sold'], axis=1)\n",
    "null_series = numerical_train.isnull().sum()\n",
    "full_cols_series = null_series[null_series == 0]\n",
    "print(full_cols_series)"
   ]
  },
  {
   "cell_type": "code",
   "execution_count": 28,
   "metadata": {},
   "outputs": [
    {
     "data": {
      "text/plain": [
       "25"
      ]
     },
     "execution_count": 28,
     "metadata": {},
     "output_type": "execute_result"
    }
   ],
   "source": [
    "len(full_cols_series)"
   ]
  },
  {
   "cell_type": "markdown",
   "metadata": {},
   "source": [
    "So,25 * 25 = 625. Its hard to correlates.<br> Use Heat map ( if > 0.3 value )<br>\n",
    "\n",
    "Ref: http://seaborn.pydata.org/examples/heatmap_annotation.html"
   ]
  },
  {
   "cell_type": "code",
   "execution_count": 31,
   "metadata": {},
   "outputs": [
    {
     "name": "stdout",
     "output_type": "stream",
     "text": [
      "Misc Val           0.009903\n",
      "3Ssn Porch         0.038699\n",
      "Low Qual Fin SF    0.060352\n",
      "Order              0.068181\n",
      "MS SubClass        0.088504\n",
      "Overall Cond       0.099395\n",
      "Screen Porch       0.100121\n",
      "Bedroom AbvGr      0.106941\n",
      "Kitchen AbvGr      0.130843\n",
      "Pool Area          0.145474\n",
      "Enclosed Porch     0.165873\n",
      "2nd Flr SF         0.202352\n",
      "Half Bath          0.272870\n",
      "Lot Area           0.274730\n",
      "Wood Deck SF       0.319104\n",
      "Open Porch SF      0.344383\n",
      "TotRms AbvGrd      0.483701\n",
      "Fireplaces         0.485683\n",
      "Full Bath          0.518194\n",
      "1st Flr SF         0.657119\n",
      "Garage Area        0.662397\n",
      "Garage Cars        0.663485\n",
      "Gr Liv Area        0.698990\n",
      "Overall Qual       0.804562\n",
      "SalePrice          1.000000\n",
      "Name: SalePrice, dtype: float64\n"
     ]
    }
   ],
   "source": [
    "#Correlate w r t SalePrice\n",
    "train_subset = train[full_cols_series.index]\n",
    "corrmat = train_subset.corr()\n",
    "sorted_corrs = corrmat['SalePrice'].abs().sort_values()\n",
    "print(sorted_corrs)"
   ]
  },
  {
   "cell_type": "code",
   "execution_count": 36,
   "metadata": {},
   "outputs": [
    {
     "data": {
      "image/png": "[encoded data removed]",
      "text/plain": [
       "<matplotlib.figure.Figure at 0x11688dcc0>"
      ]
     },
     "metadata": {},
     "output_type": "display_data"
    }
   ],
   "source": [
    "# find the strong correlation:\n",
    "strong_corrs = sorted_corrs[sorted_corrs > 0.3]\n",
    "corrmat = train_subset[strong_corrs.index].corr()\n",
    "sns.heatmap(corrmat)\n",
    "plt.show()"
   ]
  },
  {
   "cell_type": "markdown",
   "metadata": {},
   "source": [
    "Observation: Following are strongly correlated.<br>\n",
    "Gr Liv Area and TotRms AbvGrd <br>\n",
    "Garage Area and Garage Cars <br>\n",
    "\n",
    "Gr Liv Area and Garage Area refelcts very similar info.<br>\n"
   ]
  },
  {
   "cell_type": "code",
   "execution_count": 40,
   "metadata": {},
   "outputs": [
    {
     "name": "stdout",
     "output_type": "stream",
     "text": [
      "<class 'pandas.core.frame.DataFrame'>\n",
      "RangeIndex: 1470 entries, 1460 to 2929\n",
      "Data columns (total 9 columns):\n",
      "Wood Deck SF     1470 non-null int64\n",
      "Open Porch SF    1470 non-null int64\n",
      "Fireplaces       1470 non-null int64\n",
      "Full Bath        1470 non-null int64\n",
      "1st Flr SF       1470 non-null int64\n",
      "Garage Area      1469 non-null float64\n",
      "Gr Liv Area      1470 non-null int64\n",
      "Overall Qual     1470 non-null int64\n",
      "SalePrice        1470 non-null int64\n",
      "dtypes: float64(1), int64(8)\n",
      "memory usage: 103.4 KB\n"
     ]
    }
   ],
   "source": [
    "final_corr_cols = strong_corrs.drop(['Garage Cars', 'TotRms AbvGrd'])\n",
    "test[final_corr_cols.index].info()"
   ]
  },
  {
   "cell_type": "code",
   "execution_count": 41,
   "metadata": {},
   "outputs": [
    {
     "name": "stdout",
     "output_type": "stream",
     "text": [
      "34173.97629185851\n",
      "41032.026120197654\n"
     ]
    }
   ],
   "source": [
    "final_corr_cols = strong_corrs.drop(['Garage Cars', 'TotRms AbvGrd'])\n",
    "features = final_corr_cols.drop(['SalePrice']).index\n",
    "target = 'SalePrice'\n",
    "clean_test = test[final_corr_cols.index].dropna()\n",
    "\n",
    "lr = LinearRegression()\n",
    "lr.fit(train[features], train['SalePrice'])\n",
    "\n",
    "train_predictions = lr.predict(train[features])\n",
    "test_predictions = lr.predict(clean_test[features])\n",
    "\n",
    "train_mse = mean_squared_error(train_predictions, train[target])\n",
    "test_mse = mean_squared_error(test_predictions, clean_test[target])\n",
    "\n",
    "train_rmse = np.sqrt(train_mse)\n",
    "test_rmse = np.sqrt(test_mse)\n",
    "\n",
    "print(train_rmse)\n",
    "print(test_rmse)"
   ]
  },
  {
   "cell_type": "markdown",
   "metadata": {},
   "source": [
    "Last tech, remove features with low variance: <br>\n",
    "Rescale all of the col's to vary b/w 0 and 1 using Min-Max scaling or rescaling. <br>\n",
    "$\\frac{x - min(x)} {max(x) - min(x)}$ <br>\n",
    "\n",
    "x is individual value.<br>\n",
    "min(x) is min value for the col x. <br>\n",
    "max(x) is max value for the col x. <br>"
   ]
  },
  {
   "cell_type": "code",
   "execution_count": 44,
   "metadata": {},
   "outputs": [
    {
     "name": "stdout",
     "output_type": "stream",
     "text": [
      "Wood Deck SF     0.0\n",
      "Open Porch SF    0.0\n",
      "Fireplaces       0.0\n",
      "Full Bath        0.0\n",
      "1st Flr SF       0.0\n",
      "Garage Area      0.0\n",
      "Gr Liv Area      0.0\n",
      "Overall Qual     0.0\n",
      "dtype: float64\n",
      "Wood Deck SF     1.0\n",
      "Open Porch SF    1.0\n",
      "Fireplaces       1.0\n",
      "Full Bath        1.0\n",
      "1st Flr SF       1.0\n",
      "Garage Area      1.0\n",
      "Gr Liv Area      1.0\n",
      "Overall Qual     1.0\n",
      "dtype: float64\n",
      "------\n",
      "Open Porch SF    0.013938\n",
      "Full Bath        0.018621\n",
      "Garage Area      0.020347\n",
      "Gr Liv Area      0.023078\n",
      "Overall Qual     0.024496\n",
      "1st Flr SF       0.025814\n",
      "Wood Deck SF     0.033064\n",
      "Fireplaces       0.046589\n",
      "dtype: float64\n"
     ]
    }
   ],
   "source": [
    "unit_train = (train[features] - train[features].min())/(train[features].max() - train[features].min())\n",
    "print(unit_train.min())\n",
    "print(unit_train.max())\n",
    "\n",
    "print('------')\n",
    "sorted_vars = unit_train.var().sort_values()\n",
    "print(sorted_vars)\n",
    "\n"
   ]
  },
  {
   "cell_type": "markdown",
   "metadata": {},
   "source": [
    "Let's set cut off variance of *0.015*, remove the **Open Porch SF** feature, and train and test a model using the remaining features."
   ]
  },
  {
   "cell_type": "code",
   "execution_count": 45,
   "metadata": {},
   "outputs": [
    {
     "name": "stdout",
     "output_type": "stream",
     "text": [
      "34372.696707783965\n",
      "40591.42702437716\n"
     ]
    }
   ],
   "source": [
    "clean_test = test[final_corr_cols.index].dropna()\n",
    "features = features.drop('Open Porch SF')\n",
    "\n",
    "lr = LinearRegression()\n",
    "lr.fit(train[features], train['SalePrice'])\n",
    "\n",
    "train_predictions = lr.predict(train[features])\n",
    "test_predictions = lr.predict(clean_test[features])\n",
    "\n",
    "train_mse = mean_squared_error(train_predictions, train[target])\n",
    "test_mse = mean_squared_error(test_predictions, clean_test[target])\n",
    "\n",
    "train_rmse_2 = np.sqrt(train_mse)\n",
    "test_rmse_2 = np.sqrt(test_mse)\n",
    "\n",
    "print(train_rmse_2)\n",
    "print(test_rmse_2)"
   ]
  },
  {
   "cell_type": "markdown",
   "metadata": {},
   "source": [
    "Able to improve the RMSE value to approx *40591* by removing the **Open Porch SF** feature. <br>\n",
    "In Next, see the different ways of fitting models.<br>"
   ]
  },
  {
   "cell_type": "markdown",
   "metadata": {},
   "source": [
    "** Section 3: Gradient Descent ** <br>\n",
    "Above tech won't work for multiple features. because, if minimizing one parameter may vary to another parameter.So, Gradient Descent tech;<br>\n",
    "\n",
    "The gradient descent algorithm works by iteratively trying different parameter values until the model with the lowest mean squared error is found. Gradient descent is a commonly used optimization technique for other models as well, like neural networks.<br>\n",
    "\n",
    "Overview:\n",
    "\n",
    "select initial value for the parameter: a1\n",
    "repeat until convergence (usaually implemented with a max no. of iterations ): <br>\n",
    "    calculate the error (MSE) of model that uses current parameter value: $ MSE(a_1) = \\frac{1}{n} \\sum_{i=1}^{n} (\\hat{y}^{(i)} - y^{(i)} ) ^2 $ <br>\n",
    "    calculate the derivative of the error (MSE) at the current parameter value: $ \\frac{d}{da_1} MSE(a_1) $\n",
    "    update the parameter value by subtracting the derivative times a constant ( $ \\alpha $, called learning rate): $ a_1 := a_1 - \\alpha \\frac{d}{da_1} MSE(a_1) $ <br>\n",
    "    \n",
    "Selecting an appropriate initial parameter and learning rate will reduce the number of iterations required to converge, and is part of hyperparameter optimization. <br>\n",
    "\n",
    "how to calculate the derivative of the error function at each iteration of the algorithm. <br>\n",
    "\n",
    "Ref: https://en.wikipedia.org/wiki/Gradient_descent"
   ]
  },
  {
   "cell_type": "markdown",
   "metadata": {},
   "source": [
    "In mathematical optimization, a function that we optimize through minimization is known as a cost function or sometime as the loss function. Because we're trying to fit a single parameter model, we can replace with with in the cost function:<br>\n",
    "$ MSE(a_1) = \\frac{1}{n} \\sum_{i=1}^{n} (a_1x_1^{(i)} - y^{(i)} ) ^2 $ <br>\n",
    "\n",
    "differetiate both sides.<br>\n",
    "\n",
    "$ \\frac{d}{da_1} MSE(a_1) = \\frac{d}{da_1} \\frac{1}{n} \\sum_{i=1}^{n} (a_1x_1^{(i)} - y^{(i)} ) ^2 $ <br>\n",
    "\n",
    "Apply Linearity of differentiation property from calculus. <br>\n",
    "$ \\frac{d}{da_1} MSE(a_1) = \\frac{1}{n} \\sum_{i=1}^{n} \\frac{d}{da_1} (a_1x_1^{(i)} - y^{(i)} ) ^2 $ <br>\n",
    "Use chain rule. <br>\n",
    "\n",
    "$ \\frac{d}{da_1} MSE(a_1) = \\frac{1}{n} \\sum_{i=1}^{n} 2(a_1x_1^{(i)} - y^{(i)})  \\frac{d}{da_1} (a_1x_1^{(i)} - y^{(i)} ) $ <br>\n",
    "\n",
    "differentiating $a_1x_1^{(i)} - y^{(i)}$ w r t a1, where $y^{(i)}$ and $x_1^{(i)}$ as constants. <br>\n",
    "$ \\frac{d}{da_1} (a_1x_1^{(i)} - y^{(i)}) $ then simplies to just $x_1^{(i)}$: <br>\n",
    "\n",
    "$ \\frac{d}{da_1} MSE(a_1) = \\frac{2}{n} \\sum_{i=1}^{n} x_1^{(i)}(a_1x_1^{(i)} - y^{(i)}) $ <br>\n",
    "\n",
    "For every iteration of gradient descent: <br>\n",
    "    this derivative is computed using the current value.<br>\n",
    "    the derivative is multiplied by the learning rate $ \\alpha: $ $\\alpha \\frac{d}{da_1} MSE(a_1)$ <br>\n",
    "    the result is subtracted from the current parameter value and assigned as the new parameter value: $ a_1 := a_1 - \\alpha \\frac{d}{da_1} MSE(a_1) $ <br>\n",
    "    \n",
    "    \n",
    "a1_list = [1000] <br>\n",
    "alpha = 10 <br>\n",
    "\n",
    "for x in range(0, 10): <br>\n",
    "    a1 = a1_list[x]    \n",
    "    deriv = derivative(a1, alpha, xi_list, yi_list) <br>\n",
    "    a1_new = a1 - alpha*deriv <br>\n",
    "    a1_list.append(a1_new)  <br>\n",
    " \n",
    " \n",
    "\n",
    "Ref:\n",
    "https://en.wikipedia.org/wiki/Loss_function <br>\n",
    "https://en.wikipedia.org/wiki/Linearity_of_differentiation <br>\n",
    "https://en.wikipedia.org/wiki/Chain_rule <br>\n",
    "https://www.khanacademy.org/math/calculus-home/taking-derivatives-calc/chain-rule-calc/v/differentiating-powers-of-functions <br>"
   ]
  },
  {
   "cell_type": "code",
   "execution_count": 47,
   "metadata": {},
   "outputs": [
    {
     "data": {
      "text/plain": [
       "120.14219147202738"
      ]
     },
     "execution_count": 47,
     "metadata": {},
     "output_type": "execute_result"
    }
   ],
   "source": [
    "def derivative(a1, xi_list, yi_list):\n",
    "    len_data = len(xi_list)\n",
    "    error = 0\n",
    "    for i in range(0, len_data):\n",
    "        error += xi_list[i]*(a1*xi_list[i] - yi_list[i])\n",
    "    deriv = 2*error/len_data\n",
    "    return deriv\n",
    "\n",
    "\n",
    "\n",
    "def gradient_descent(xi_list, yi_list, max_iterations, alpha, a1_initial):\n",
    "    a1_list = [a1_initial]\n",
    "\n",
    "    for i in range(0, max_iterations):\n",
    "        a1 = a1_list[i]\n",
    "        deriv = derivative(a1, xi_list, yi_list)\n",
    "        a1_new = a1 - alpha*deriv\n",
    "        a1_list.append(a1_new)\n",
    "    return(a1_list)\n",
    "\n",
    "\n",
    "param_iterations = gradient_descent(train['Gr Liv Area'], train['SalePrice'], 20, .0000003, 150)\n",
    "final_param = param_iterations[-1]\n",
    "\n",
    "final_param"
   ]
  },
  {
   "cell_type": "markdown",
   "metadata": {},
   "source": [
    "This is how, single parameter gradient descent works and Let's build for multi variant LR.<br>"
   ]
  },
  {
   "cell_type": "markdown",
   "metadata": {},
   "source": [
    "Goal: reduce residual sum of squares (RSS ) and the mean squared error (MSE). <br>\n",
    "The gradient is a multi variable generalization of the derivative. <br>\n",
    "\n",
    "$ MSE(a_1) = \\frac{1}{n} \\sum_{i=1}^{n} (a_1x_1^{(i)} - y^{(i)} ) ^2 $ <br>\n",
    "\n",
    "There are 2 parameter values a0 and a1, the cost function is now function of 2 variables, not 1: <br>\n",
    "\n",
    "$ MSE(a_0, a_1) = \\frac{1}{n} \\sum_{i=1}^{n} (a_0 + a_1x_1^{(i)} - y^{(i)} ) ^2 $ <br>\n",
    "\n",
    "Instead of one update rule, now need two update rule: <br>\n",
    "\n",
    "$ a_0 := a_0 - \\alpha \\frac{d}{da_0} MSE(a_0, a_1) $ <br>\n",
    "\n",
    "$ a_1 := a_1 - \\alpha \\frac{d}{da_1} MSE(a_0, a_1) $ <br>\n",
    "\n",
    "$ frac{d}{da_1} MSE(a_0, a_1) = \\frac{2}{n} \\sum_{i=1}^{n} x_1^{(i)}(a_0 + a_1x_1^{(i)} - y^{(i)}) $ <br>\n",
    "\n",
    "\n",
    "Ref: https://en.wikipedia.org/wiki/Gradient"
   ]
  },
  {
   "cell_type": "code",
   "execution_count": 48,
   "metadata": {},
   "outputs": [
    {
     "name": "stdout",
     "output_type": "stream",
     "text": [
      "[1000, 999.9729797812329, 999.985903701066, 999.980232547139, 999.9832179015052, 999.9821734177915, 999.983004932363, 999.9829631191217, 999.9833278635107, 999.98350334434, 999.9837669324418, 999.9839895042135, 999.9842311701743, 999.9844639472566, 999.9847008623329, 999.9849358510428, 999.9851717365096, 999.9854072044933, 999.985642866808, 999.9858784386378, 999.986114052572]\n",
      "[150, 105.34801721547944, 126.13471917628125, 116.45794862200977, 120.96274606972909, 118.86564116059868, 119.84189984026605, 119.38742488614261, 119.59899502291616, 119.50050320781361, 119.54635359313434, 119.52500879150305, 119.53494516153384, 119.53031930255781, 119.53247255390217, 119.53146994657168, 119.53193647656232, 119.53171908350993, 119.53182007507831, 119.53177285001942, 119.53179462379771]\n"
     ]
    }
   ],
   "source": [
    "def a1_derivative(a0, a1, xi_list, yi_list):\n",
    "    len_data = len(xi_list)\n",
    "    error = 0\n",
    "    for i in range(0, len_data):\n",
    "        error += xi_list[i]*(a0 + a1*xi_list[i] - yi_list[i])\n",
    "    deriv = 2*error/len_data\n",
    "    return deriv\n",
    "\n",
    "def a0_derivative(a0, a1, xi_list, yi_list):\n",
    "    len_data = len(xi_list)\n",
    "    error = 0\n",
    "    for i in range(0, len_data):\n",
    "        error += a0 + a1*xi_list[i] - yi_list[i]\n",
    "    deriv = 2*error/len_data\n",
    "    return deriv\n",
    "\n",
    "def gradient_descent(xi_list, yi_list, max_iterations, alpha, a1_initial, a0_initial):\n",
    "    a1_list = [a1_initial]\n",
    "    a0_list = [a0_initial]\n",
    "\n",
    "    for i in range(0, max_iterations):\n",
    "        a1 = a1_list[i]\n",
    "        a0 = a0_list[i]\n",
    "        \n",
    "        a1_deriv = a1_derivative(a0, a1, xi_list, yi_list)\n",
    "        a0_deriv = a0_derivative(a0, a1, xi_list, yi_list)\n",
    "        \n",
    "        a1_new = a1 - alpha*a1_deriv\n",
    "        a0_new = a0 - alpha*a0_deriv\n",
    "        \n",
    "        a1_list.append(a1_new)\n",
    "        a0_list.append(a0_new)\n",
    "    return(a0_list, a1_list)\n",
    "\n",
    "\n",
    "a0_params, a1_params = gradient_descent(train['Gr Liv Area'], train['SalePrice'], 20, .0000003, 150, 1000)\n",
    "print(a0_params)\n",
    "print(a1_params)\n",
    "\n",
    "\n"
   ]
  },
  {
   "cell_type": "markdown",
   "metadata": {},
   "source": [
    "if many parameter, $ a_0 := a_0 - \\alpha \\frac{d}{da_0} MSE \\\\\n",
    " a_1 := a_1 - \\alpha \\frac{d}{da_1} MSE \\\\ \n",
    " a_2 := a_2 - \\alpha \\frac{d}{da_2} MSE \\\\ \n",
    " a_3 := a_3 - \\alpha \\frac{d}{da_3} MSE \\\\ \n",
    " a_n := a_n - \\alpha \\frac{d}{da_n} MSE \\\\\n",
    " $\n",
    "  <br>\n",
    "  \n",
    "  \n",
    "  $ \\frac{d}{da_1} MSE = \\frac{2}{n} \\sum_{i=1}^{n} x_1^{(i)}(\\hat{y}^{(i)} - y^{(i)}) \\\\  \n",
    " \\frac{d}{da_2} MSE = \\frac{2}{n} \\sum_{i=1}^{n} x_2^{(i)}(\\hat{y}^{(i)} - y^{(i)}) \\\\\n",
    " \\frac{d}{da_n} MSE = \\frac{2}{n} \\sum_{i=1}^{n} x_n^{(i)}(\\hat{y}^{(i)} - y^{(i)})  \\\\ $ <br>\n",
    " \n",
    " the main challenges are: <br>\n",
    " \n",
    "    choosing good initial parameter values <br>\n",
    "    choosing a good learning rate (falls under the domain of hyperparameter optimization) <br>\n"
   ]
  },
  {
   "cell_type": "markdown",
   "metadata": {},
   "source": [
    "** Section 4: Ordinary Least Squares **<br>\n",
    "    \n",
    "In Gradient descent algorithms, requires multiple iterations to converge on optimal parameter values and no. of iterations is hightly dependent on the intial values and the learning rate. <br>\n",
    "\n",
    "Cost function in matrx form: <br>\n",
    " $ J(a) = \\dfrac{1}{n} (Xa - y)^T(Xa - y) $ <br>\n",
    " $ \\frac{dJ(a)}{da} = 2X^TXa - 2X^Ty $ <br>\n",
    " \n",
    "To find *a* that minimize the cost function J(a), set the derivative equal to 0 and solve for a: <br>\n",
    "$ 2X^TXa - 2X^Ty = 0 $ <br>\n",
    "$ X^TXa = X^Ty $ <br>\n",
    "\n",
    "$ a = (X^TX)^{-1}X^Ty $ <br>\n",
    "\n",
    "Ref: https://eli.thegreenplace.net/2015/the-normal-equation-and-matrix-calculus/"
   ]
  },
  {
   "cell_type": "code",
   "execution_count": 49,
   "metadata": {},
   "outputs": [
    {
     "name": "stdout",
     "output_type": "stream",
     "text": [
      "[   53.75693376 18232.3137575  -6434.65300989    22.53151963\n",
      "    86.81522574    28.08976713 11397.64135314]\n"
     ]
    }
   ],
   "source": [
    "features = ['Wood Deck SF', 'Fireplaces', 'Full Bath', '1st Flr SF', 'Garage Area',\n",
    "       'Gr Liv Area', 'Overall Qual']\n",
    "X = train[features]\n",
    "y = train['SalePrice']\n",
    "\n",
    "first_term = np.linalg.inv(\n",
    "        np.dot(\n",
    "            np.transpose(X), \n",
    "            X\n",
    "        )\n",
    "    )\n",
    "second_term = np.dot(\n",
    "        np.transpose(X),\n",
    "        y\n",
    "    )\n",
    "a = np.dot(first_term, second_term)\n",
    "print(a)"
   ]
  },
  {
   "cell_type": "markdown",
   "metadata": {},
   "source": [
    "** Section 4: Processing and Transforming Features ** <br>\n",
    "The process of processing and creating new features is known as feature engineering. <br>\n",
    "This is an art and having knowledge in the specific domain. <br>\n"
   ]
  },
  {
   "cell_type": "code",
   "execution_count": 51,
   "metadata": {},
   "outputs": [
    {
     "name": "stdout",
     "output_type": "stream",
     "text": [
      "Order                0\n",
      "PID                  0\n",
      "MS SubClass          0\n",
      "MS Zoning            0\n",
      "Lot Frontage       249\n",
      "Lot Area             0\n",
      "Street               0\n",
      "Alley             1351\n",
      "Lot Shape            0\n",
      "Land Contour         0\n",
      "Utilities            0\n",
      "Lot Config           0\n",
      "Land Slope           0\n",
      "Neighborhood         0\n",
      "Condition 1          0\n",
      "Condition 2          0\n",
      "Bldg Type            0\n",
      "House Style          0\n",
      "Overall Qual         0\n",
      "Overall Cond         0\n",
      "Year Built           0\n",
      "Year Remod/Add       0\n",
      "Roof Style           0\n",
      "Roof Matl            0\n",
      "Exterior 1st         0\n",
      "Exterior 2nd         0\n",
      "Mas Vnr Type        11\n",
      "Mas Vnr Area        11\n",
      "Exter Qual           0\n",
      "Exter Cond           0\n",
      "                  ... \n",
      "Bedroom AbvGr        0\n",
      "Kitchen AbvGr        0\n",
      "Kitchen Qual         0\n",
      "TotRms AbvGrd        0\n",
      "Functional           0\n",
      "Fireplaces           0\n",
      "Fireplace Qu       717\n",
      "Garage Type         74\n",
      "Garage Yr Blt       75\n",
      "Garage Finish       75\n",
      "Garage Cars          0\n",
      "Garage Area          0\n",
      "Garage Qual         75\n",
      "Garage Cond         75\n",
      "Paved Drive          0\n",
      "Wood Deck SF         0\n",
      "Open Porch SF        0\n",
      "Enclosed Porch       0\n",
      "3Ssn Porch           0\n",
      "Screen Porch         0\n",
      "Pool Area            0\n",
      "Pool QC           1459\n",
      "Fence             1163\n",
      "Misc Feature      1400\n",
      "Misc Val             0\n",
      "Mo Sold              0\n",
      "Yr Sold              0\n",
      "Sale Type            0\n",
      "Sale Condition       0\n",
      "SalePrice            0\n",
      "dtype: int64\n"
     ]
    }
   ],
   "source": [
    "train_null_counts = train.isnull().sum()\n",
    "print(train_null_counts)\n",
    "df_no_mv = train[train_null_counts[train_null_counts==0].index]"
   ]
  },
  {
   "cell_type": "markdown",
   "metadata": {},
   "source": [
    "Observation: Some of the col's are in strings type. If these col's contain only a limited set of unique values, known as *Categorical features*."
   ]
  },
  {
   "cell_type": "code",
   "execution_count": 52,
   "metadata": {},
   "outputs": [
    {
     "data": {
      "text/plain": [
       "AllPub    1457\n",
       "NoSewr       2\n",
       "NoSeWa       1\n",
       "Name: Utilities, dtype: int64"
      ]
     },
     "execution_count": 52,
     "metadata": {},
     "output_type": "execute_result"
    }
   ],
   "source": [
    " train['Utilities'].value_counts()"
   ]
  },
  {
   "cell_type": "code",
   "execution_count": 53,
   "metadata": {},
   "outputs": [
    {
     "data": {
      "text/plain": [
       "Pave    1455\n",
       "Grvl       5\n",
       "Name: Street, dtype: int64"
      ]
     },
     "execution_count": 53,
     "metadata": {},
     "output_type": "execute_result"
    }
   ],
   "source": [
    "train['Street'].value_counts()"
   ]
  },
  {
   "cell_type": "code",
   "execution_count": 54,
   "metadata": {},
   "outputs": [
    {
     "data": {
      "text/plain": [
       "1Story    743\n",
       "2Story    440\n",
       "1.5Fin    160\n",
       "SLvl       60\n",
       "SFoyer     35\n",
       "2.5Unf     11\n",
       "1.5Unf      8\n",
       "2.5Fin      3\n",
       "Name: House Style, dtype: int64"
      ]
     },
     "execution_count": 54,
     "metadata": {},
     "output_type": "execute_result"
    }
   ],
   "source": [
    "train['House Style'].value_counts()"
   ]
  },
  {
   "cell_type": "code",
   "execution_count": 57,
   "metadata": {},
   "outputs": [
    {
     "name": "stdout",
     "output_type": "stream",
     "text": [
      "MS Zoning: 6\n",
      "Street: 2\n",
      "Lot Shape: 4\n",
      "Land Contour: 4\n",
      "Utilities: 3\n",
      "Lot Config: 5\n",
      "Land Slope: 3\n",
      "Neighborhood: 26\n",
      "Condition 1: 9\n",
      "Condition 2: 6\n",
      "Bldg Type: 5\n",
      "House Style: 8\n",
      "Roof Style: 6\n",
      "Roof Matl: 5\n",
      "Exterior 1st: 14\n",
      "Exterior 2nd: 16\n",
      "Exter Qual: 4\n",
      "Exter Cond: 5\n",
      "Foundation: 6\n",
      "Heating: 6\n",
      "Heating QC: 4\n",
      "Central Air: 2\n",
      "Electrical: 4\n",
      "Kitchen Qual: 5\n",
      "Functional: 7\n",
      "Paved Drive: 3\n",
      "Sale Type: 9\n",
      "Sale Condition: 5\n"
     ]
    },
    {
     "data": {
      "text/plain": [
       "0    1457\n",
       "2       2\n",
       "1       1\n",
       "dtype: int64"
      ]
     },
     "execution_count": 57,
     "metadata": {},
     "output_type": "execute_result"
    }
   ],
   "source": [
    "#transform them to numerical form:\n",
    "text_cols = df_no_mv.select_dtypes(include=['object']).columns\n",
    "for col in text_cols:\n",
    "    print(col+\":\", len(train[col].unique()))\n",
    "for col in text_cols:\n",
    "    train[col] = train[col].astype('category')\n",
    "train['Utilities'].cat.codes.value_counts()\n"
   ]
  },
  {
   "cell_type": "code",
   "execution_count": 58,
   "metadata": {
    "collapsed": true
   },
   "outputs": [],
   "source": [
    "#Use dummy coding.\n",
    "#Ref: https://en.wikipedia.org/wiki/Dummy_variable_%28statistics%29\n",
    "\n",
    "dummy_cols = pd.DataFrame()\n",
    "for col in text_cols:\n",
    "    col_dummies = pd.get_dummies(train[col])\n",
    "    train = pd.concat([train, col_dummies], axis=1)\n",
    "    del train[col]"
   ]
  },
  {
   "cell_type": "code",
   "execution_count": 59,
   "metadata": {},
   "outputs": [
    {
     "data": {
      "text/html": [
       "<div>\n",
       "<table border=\"1\" class=\"dataframe\">\n",
       "  <thead>\n",
       "    <tr style=\"text-align: right;\">\n",
       "      <th></th>\n",
       "      <th>Order</th>\n",
       "      <th>PID</th>\n",
       "      <th>MS SubClass</th>\n",
       "      <th>Lot Frontage</th>\n",
       "      <th>Lot Area</th>\n",
       "      <th>Alley</th>\n",
       "      <th>Overall Qual</th>\n",
       "      <th>Overall Cond</th>\n",
       "      <th>Year Built</th>\n",
       "      <th>Year Remod/Add</th>\n",
       "      <th>...</th>\n",
       "      <th>ConLI</th>\n",
       "      <th>ConLw</th>\n",
       "      <th>New</th>\n",
       "      <th>Oth</th>\n",
       "      <th>WD</th>\n",
       "      <th>Abnorml</th>\n",
       "      <th>Alloca</th>\n",
       "      <th>Family</th>\n",
       "      <th>Normal</th>\n",
       "      <th>Partial</th>\n",
       "    </tr>\n",
       "  </thead>\n",
       "  <tbody>\n",
       "    <tr>\n",
       "      <th>0</th>\n",
       "      <td>1</td>\n",
       "      <td>526301100</td>\n",
       "      <td>20</td>\n",
       "      <td>141.0</td>\n",
       "      <td>31770</td>\n",
       "      <td>NaN</td>\n",
       "      <td>6</td>\n",
       "      <td>5</td>\n",
       "      <td>1960</td>\n",
       "      <td>1960</td>\n",
       "      <td>...</td>\n",
       "      <td>0</td>\n",
       "      <td>0</td>\n",
       "      <td>0</td>\n",
       "      <td>0</td>\n",
       "      <td>1</td>\n",
       "      <td>0</td>\n",
       "      <td>0</td>\n",
       "      <td>0</td>\n",
       "      <td>1</td>\n",
       "      <td>0</td>\n",
       "    </tr>\n",
       "    <tr>\n",
       "      <th>1</th>\n",
       "      <td>2</td>\n",
       "      <td>526350040</td>\n",
       "      <td>20</td>\n",
       "      <td>80.0</td>\n",
       "      <td>11622</td>\n",
       "      <td>NaN</td>\n",
       "      <td>5</td>\n",
       "      <td>6</td>\n",
       "      <td>1961</td>\n",
       "      <td>1961</td>\n",
       "      <td>...</td>\n",
       "      <td>0</td>\n",
       "      <td>0</td>\n",
       "      <td>0</td>\n",
       "      <td>0</td>\n",
       "      <td>1</td>\n",
       "      <td>0</td>\n",
       "      <td>0</td>\n",
       "      <td>0</td>\n",
       "      <td>1</td>\n",
       "      <td>0</td>\n",
       "    </tr>\n",
       "    <tr>\n",
       "      <th>2</th>\n",
       "      <td>3</td>\n",
       "      <td>526351010</td>\n",
       "      <td>20</td>\n",
       "      <td>81.0</td>\n",
       "      <td>14267</td>\n",
       "      <td>NaN</td>\n",
       "      <td>6</td>\n",
       "      <td>6</td>\n",
       "      <td>1958</td>\n",
       "      <td>1958</td>\n",
       "      <td>...</td>\n",
       "      <td>0</td>\n",
       "      <td>0</td>\n",
       "      <td>0</td>\n",
       "      <td>0</td>\n",
       "      <td>1</td>\n",
       "      <td>0</td>\n",
       "      <td>0</td>\n",
       "      <td>0</td>\n",
       "      <td>1</td>\n",
       "      <td>0</td>\n",
       "    </tr>\n",
       "    <tr>\n",
       "      <th>3</th>\n",
       "      <td>4</td>\n",
       "      <td>526353030</td>\n",
       "      <td>20</td>\n",
       "      <td>93.0</td>\n",
       "      <td>11160</td>\n",
       "      <td>NaN</td>\n",
       "      <td>7</td>\n",
       "      <td>5</td>\n",
       "      <td>1968</td>\n",
       "      <td>1968</td>\n",
       "      <td>...</td>\n",
       "      <td>0</td>\n",
       "      <td>0</td>\n",
       "      <td>0</td>\n",
       "      <td>0</td>\n",
       "      <td>1</td>\n",
       "      <td>0</td>\n",
       "      <td>0</td>\n",
       "      <td>0</td>\n",
       "      <td>1</td>\n",
       "      <td>0</td>\n",
       "    </tr>\n",
       "    <tr>\n",
       "      <th>4</th>\n",
       "      <td>5</td>\n",
       "      <td>527105010</td>\n",
       "      <td>60</td>\n",
       "      <td>74.0</td>\n",
       "      <td>13830</td>\n",
       "      <td>NaN</td>\n",
       "      <td>5</td>\n",
       "      <td>5</td>\n",
       "      <td>1997</td>\n",
       "      <td>1998</td>\n",
       "      <td>...</td>\n",
       "      <td>0</td>\n",
       "      <td>0</td>\n",
       "      <td>0</td>\n",
       "      <td>0</td>\n",
       "      <td>1</td>\n",
       "      <td>0</td>\n",
       "      <td>0</td>\n",
       "      <td>0</td>\n",
       "      <td>1</td>\n",
       "      <td>0</td>\n",
       "    </tr>\n",
       "  </tbody>\n",
       "</table>\n",
       "<p>5 rows × 236 columns</p>\n",
       "</div>"
      ],
      "text/plain": [
       "   Order        PID  MS SubClass  Lot Frontage  Lot Area Alley  Overall Qual  \\\n",
       "0      1  526301100           20         141.0     31770   NaN             6   \n",
       "1      2  526350040           20          80.0     11622   NaN             5   \n",
       "2      3  526351010           20          81.0     14267   NaN             6   \n",
       "3      4  526353030           20          93.0     11160   NaN             7   \n",
       "4      5  527105010           60          74.0     13830   NaN             5   \n",
       "\n",
       "   Overall Cond  Year Built  Year Remod/Add   ...    ConLI  ConLw New Oth WD   \\\n",
       "0             5        1960            1960   ...        0      0   0   0   1   \n",
       "1             6        1961            1961   ...        0      0   0   0   1   \n",
       "2             6        1958            1958   ...        0      0   0   0   1   \n",
       "3             5        1968            1968   ...        0      0   0   0   1   \n",
       "4             5        1997            1998   ...        0      0   0   0   1   \n",
       "\n",
       "  Abnorml  Alloca Family  Normal  Partial  \n",
       "0       0       0      0       1        0  \n",
       "1       0       0      0       1        0  \n",
       "2       0       0      0       1        0  \n",
       "3       0       0      0       1        0  \n",
       "4       0       0      0       1        0  \n",
       "\n",
       "[5 rows x 236 columns]"
      ]
     },
     "execution_count": 59,
     "metadata": {},
     "output_type": "execute_result"
    }
   ],
   "source": [
    "train.head()"
   ]
  },
  {
   "cell_type": "code",
   "execution_count": 61,
   "metadata": {},
   "outputs": [
    {
     "data": {
      "text/html": [
       "<div>\n",
       "<table border=\"1\" class=\"dataframe\">\n",
       "  <thead>\n",
       "    <tr style=\"text-align: right;\">\n",
       "      <th></th>\n",
       "      <th>Year Remod/Add</th>\n",
       "      <th>Year Built</th>\n",
       "    </tr>\n",
       "  </thead>\n",
       "  <tbody>\n",
       "    <tr>\n",
       "      <th>0</th>\n",
       "      <td>1960</td>\n",
       "      <td>1960</td>\n",
       "    </tr>\n",
       "    <tr>\n",
       "      <th>1</th>\n",
       "      <td>1961</td>\n",
       "      <td>1961</td>\n",
       "    </tr>\n",
       "    <tr>\n",
       "      <th>2</th>\n",
       "      <td>1958</td>\n",
       "      <td>1958</td>\n",
       "    </tr>\n",
       "    <tr>\n",
       "      <th>3</th>\n",
       "      <td>1968</td>\n",
       "      <td>1968</td>\n",
       "    </tr>\n",
       "    <tr>\n",
       "      <th>4</th>\n",
       "      <td>1998</td>\n",
       "      <td>1997</td>\n",
       "    </tr>\n",
       "  </tbody>\n",
       "</table>\n",
       "</div>"
      ],
      "text/plain": [
       "   Year Remod/Add  Year Built\n",
       "0            1960        1960\n",
       "1            1961        1961\n",
       "2            1958        1958\n",
       "3            1968        1968\n",
       "4            1998        1997"
      ]
     },
     "execution_count": 61,
     "metadata": {},
     "output_type": "execute_result"
    }
   ],
   "source": [
    "train[['Year Remod/Add', 'Year Built']].head()"
   ]
  },
  {
   "cell_type": "code",
   "execution_count": 62,
   "metadata": {
    "collapsed": true
   },
   "outputs": [],
   "source": [
    "train['years_until_remod'] = train['Year Remod/Add'] - train['Year Built']"
   ]
  },
  {
   "cell_type": "code",
   "execution_count": 63,
   "metadata": {},
   "outputs": [
    {
     "name": "stdout",
     "output_type": "stream",
     "text": [
      "Lot Frontage      249\n",
      "Mas Vnr Type       11\n",
      "Mas Vnr Area       11\n",
      "Bsmt Qual          40\n",
      "Bsmt Cond          40\n",
      "Bsmt Exposure      41\n",
      "BsmtFin Type 1     40\n",
      "BsmtFin SF 1        1\n",
      "BsmtFin Type 2     41\n",
      "BsmtFin SF 2        1\n",
      "Bsmt Unf SF         1\n",
      "Total Bsmt SF       1\n",
      "Bsmt Full Bath      1\n",
      "Bsmt Half Bath      1\n",
      "Garage Type        74\n",
      "Garage Yr Blt      75\n",
      "Garage Finish      75\n",
      "Garage Qual        75\n",
      "Garage Cond        75\n",
      "dtype: int64\n",
      "Lot Frontage      float64\n",
      "Mas Vnr Type       object\n",
      "Mas Vnr Area      float64\n",
      "Bsmt Qual          object\n",
      "Bsmt Cond          object\n",
      "Bsmt Exposure      object\n",
      "BsmtFin Type 1     object\n",
      "BsmtFin SF 1      float64\n",
      "BsmtFin Type 2     object\n",
      "BsmtFin SF 2      float64\n",
      "Bsmt Unf SF       float64\n",
      "Total Bsmt SF     float64\n",
      "Bsmt Full Bath    float64\n",
      "Bsmt Half Bath    float64\n",
      "Garage Type        object\n",
      "Garage Yr Blt     float64\n",
      "Garage Finish      object\n",
      "Garage Qual        object\n",
      "Garage Cond        object\n",
      "dtype: object\n"
     ]
    }
   ],
   "source": [
    "train_null_counts = train.isnull().sum()\n",
    "df_missing_values = train[train_null_counts[(train_null_counts>0) & (train_null_counts<584)].index]\n",
    "\n",
    "print(df_missing_values.isnull().sum())\n",
    "print(df_missing_values.dtypes)"
   ]
  },
  {
   "cell_type": "code",
   "execution_count": 64,
   "metadata": {},
   "outputs": [
    {
     "name": "stdout",
     "output_type": "stream",
     "text": [
      "Lot Frontage      0\n",
      "Mas Vnr Area      0\n",
      "BsmtFin SF 1      0\n",
      "BsmtFin SF 2      0\n",
      "Bsmt Unf SF       0\n",
      "Total Bsmt SF     0\n",
      "Bsmt Full Bath    0\n",
      "Bsmt Half Bath    0\n",
      "Garage Yr Blt     0\n",
      "dtype: int64\n"
     ]
    }
   ],
   "source": [
    "float_cols = df_missing_values.select_dtypes(include=['float'])\n",
    "float_cols = float_cols.fillna(float_cols.mean())\n",
    "print(float_cols.isnull().sum())"
   ]
  },
  {
   "cell_type": "markdown",
   "metadata": {},
   "source": [
    "Ref:\n",
    "https://medium.com/ai-society/hello-gradient-descent-ef74434bdfa5"
   ]
  },
  {
   "cell_type": "code",
   "execution_count": null,
   "metadata": {
    "collapsed": true
   },
   "outputs": [],
   "source": []
  },
  {
   "cell_type": "code",
   "execution_count": null,
   "metadata": {
    "collapsed": true
   },
   "outputs": [],
   "source": []
  }
 ],
 "metadata": {
  "kernelspec": {
   "display_name": "Python 3",
   "language": "python",
   "name": "python3"
  },
  "language_info": {
   "codemirror_mode": {
    "name": "ipython",
    "version": 3
   },
   "file_extension": ".py",
   "mimetype": "text/x-python",
   "name": "python",
   "nbconvert_exporter": "python",
   "pygments_lexer": "ipython3",
   "version": "3.6.4"
  }
 },
 "nbformat": 4,
 "nbformat_minor": 2
}
