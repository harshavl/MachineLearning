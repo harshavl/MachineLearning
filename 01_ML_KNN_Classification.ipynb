{
 "cells": [
  {
   "cell_type": "markdown",
   "metadata": {},
   "source": [
    "## Machine Learning and Image Classification"
   ]
  },
  {
   "cell_type": "markdown",
   "metadata": {},
   "source": [
    "Image classification: task of assigning a label to an image from a pre-defined set of categories OR analyze the input image and return a label that categorizes the image.<br>\n",
    "\n",
    "for examples, categories = { cat, cow, dog, hosrse, wolf } <br>\n",
    "\n",
    "Task is to figure out how to accurately classify the contents of the image ( W x H x 3 = N pixels ) <br>\n",
    "\n",
    "The sematic gap is the difference between a how human perceives the contents of an image versus how an image can be represented in a computer.<br>\n",
    "\n",
    "How computer can understand or encode the image ? <br>\n",
    "Using **Image Descriptors** and **Deep Learning**.<br>\n",
    "\n",
    "<br>\n",
    "Challenges: <br>\n",
    "View point, Scale variation, Deformation, Occlusions, Background clutter, Intra-class variation, "
   ]
  },
  {
   "cell_type": "markdown",
   "metadata": {},
   "source": [
    "## Types of Learning"
   ]
  },
  {
   "cell_type": "markdown",
   "metadata": {},
   "source": [
    "**Supervised Learning**<br>\n",
    "Predictions are made on the input data and corrected when the predictions are wrong.<br>\n",
    "For examples, Logistic Regression, Support Vector Machines, and Random Forests. <br>\n"
   ]
  },
  {
   "cell_type": "markdown",
   "metadata": {},
   "source": [
    "**Unsupervised Learning** <br>\n",
    "it has no labels with the input data and cannot correct the model if makes an in correct prediction. Most learning methods are focussed on deducing strcuture present in the input data.<br>\n",
    "using **K**-means algorithms to automatically cluster the images.\n",
    "Examples, Principal Component Analysis(PCA) for dimensionality reduction, used in face indentification in the Eigenfaces algorithms. <br>\n"
   ]
  },
  {
   "cell_type": "markdown",
   "metadata": {},
   "source": [
    "** Semi-supervised Learning** <br>\n",
    "Some of the labels associated with data and no labels for the other. "
   ]
  },
  {
   "cell_type": "markdown",
   "metadata": {},
   "source": [
    "## Image Classification Steps"
   ]
  },
  {
   "cell_type": "markdown",
   "metadata": {},
   "source": [
    "1. Structuring intial dataset: Label the data <br>\n",
    "2. Splitting the dataset into two parts: split into *training* used to learn category on the input data and correct when predictions are wrong And testing set used to evaluate its performance; Use K-Nearest Neighbor classifier.<br>\n",
    "<br>\n",
    "3. Extracting features: Using Image descriptor;<br>\n",
    "4. Train Classification model: Train the classifir using SVM,decision Tress and Random Forest classifiers.<br>\n",
    "5. Evaluation Classifier: Predict the label of image is. <br>\n",
    "\n"
   ]
  },
  {
   "cell_type": "markdown",
   "metadata": {},
   "source": [
    "## K-Nearest Neighbor Classification"
   ]
  },
  {
   "cell_type": "markdown",
   "metadata": {},
   "source": [
    "This is simple and works good for low dimension features spaces ( still overcome this problem using Approximate Nearest Neighbor ANN algorithms such as kd-trees, FLANN and random projections).<br>\n",
    "Not suitable for distances in high-dimensional feature spaces."
   ]
  },
  {
   "cell_type": "code",
   "execution_count": 15,
   "metadata": {},
   "outputs": [],
   "source": [
    "# K-NN uses the euclidean distance or L2-distance;\n",
    "#\n",
    "\n",
    "from __future__ import print_function\n",
    "from sklearn.neighbors import KNeighborsClassifier\n",
    "from sklearn.metrics import classification_report\n",
    "from sklearn import datasets\n",
    "from skimage import exposure\n",
    "import numpy as np\n",
    "import imutils\n",
    "import cv2\n",
    "import sklearn\n",
    "\n",
    "\n",
    "# if older versions of sklearn\n",
    "\n",
    "if int((sklearn.__version__).split(\".\")[1]) < 18:\n",
    "    from sklearn.cross_validation import train_test_split\n",
    "# use at lease version 0.18\n",
    "else:\n",
    "    from sklearn.model_selection import train_test_split\n",
    "    \n",
    "import matplotlib.pyplot as plt\n",
    "%matplotlib inline"
   ]
  },
  {
   "cell_type": "code",
   "execution_count": 5,
   "metadata": {
    "collapsed": true
   },
   "outputs": [],
   "source": [
    "# load the data set\n",
    "mnist = datasets.load_digits()"
   ]
  },
  {
   "cell_type": "code",
   "execution_count": 21,
   "metadata": {},
   "outputs": [
    {
     "name": "stdout",
     "output_type": "stream",
     "text": [
      "training data points: 449\n",
      "validation data points: 449\n",
      "testing data points: 899\n"
     ]
    }
   ],
   "source": [
    "# construct the training and testing data split using 75% and 25%;\n",
    "\n",
    "(trainData, testData, trainLabels, testLabels) = train_test_split(np.array(mnist.data), mnist.target, test_size=0.5, random_state=50)\n",
    "\n",
    "#(trainData, testData, trainLabels, testLabels) = train_test_split(np.array(mnist.data), mnist.target, test_size=0.25, random_state=42)\n",
    "\n",
    "# test 10% training data and use it for validation\n",
    "(trainData, valData, trainLabels, valLabels) = train_test_split( trainData, trainLabels, test_size=0.50, random_state=50)\n",
    "\n",
    "# show the sizes of each data split\n",
    "print(\"training data points: {}\".format(len(trainLabels)))\n",
    "print(\"validation data points: {}\".format(len(valLabels)))\n",
    "print(\"testing data points: {}\".format(len(testLabels)))"
   ]
  },
  {
   "cell_type": "code",
   "execution_count": 22,
   "metadata": {},
   "outputs": [
    {
     "name": "stdout",
     "output_type": "stream",
     "text": [
      "k=1, accuracy=96.21380846325167\n",
      "k=3, accuracy=96.88195991091314\n",
      "k=5, accuracy=97.32739420935413\n",
      "k=7, accuracy=96.21380846325167\n",
      "k=9, accuracy=95.99109131403118\n",
      "k=11, accuracy=95.7683741648107\n",
      "k=13, accuracy=95.99109131403118\n",
      "k=15, accuracy=94.43207126948775\n",
      "k=17, accuracy=94.43207126948775\n",
      "k=19, accuracy=93.98663697104676\n",
      "k=21, accuracy=94.20935412026726\n",
      "k=23, accuracy=93.76391982182628\n",
      "k=25, accuracy=92.65033407572383\n",
      "k=27, accuracy=92.20489977728286\n",
      "k=29, accuracy=91.31403118040089\n",
      "k=5 achieved highest accuracy of 97.32739420935413 on validation data\n"
     ]
    }
   ],
   "source": [
    "\n",
    "#initialize the values of k for KNN with l value\n",
    "kVals = range(1,30,2)\n",
    "accurancies = []\n",
    "\n",
    "# loop over varies k values\n",
    "for k in range(1, 30, 2 ):\n",
    "    # train the K-NN classifier with K values\n",
    "    model = KNeighborsClassifier(n_neighbors=k)\n",
    "    model.fit(trainData, trainLabels)\n",
    "    \n",
    "    #evaulate the model and update accurancies list;\n",
    "    score = model.score(valData, valLabels)\n",
    "    print(\"k={}, accuracy={}\".format(k, score * 100 ))\n",
    "    accurancies.append(score)\n",
    "    \n",
    "# find the value of k that has largest accurancy\n",
    "i = int(np.argmax(accurancies))\n",
    "print(\"k={} achieved highest accuracy of {} on validation data\".format(kVals[i], accurancies[i] * 100 ))"
   ]
  },
  {
   "cell_type": "code",
   "execution_count": 11,
   "metadata": {},
   "outputs": [
    {
     "name": "stdout",
     "output_type": "stream",
     "text": [
      "EVALUATION ON TESTING DATA\n",
      "             precision    recall  f1-score   support\n",
      "\n",
      "          0       1.00      1.00      1.00        43\n",
      "          1       0.95      1.00      0.97        37\n",
      "          2       1.00      1.00      1.00        38\n",
      "          3       0.98      0.98      0.98        46\n",
      "          4       0.98      0.98      0.98        55\n",
      "          5       0.98      1.00      0.99        59\n",
      "          6       1.00      1.00      1.00        45\n",
      "          7       1.00      0.98      0.99        41\n",
      "          8       0.97      0.95      0.96        38\n",
      "          9       0.96      0.94      0.95        48\n",
      "\n",
      "avg / total       0.98      0.98      0.98       450\n",
      "\n"
     ]
    }
   ],
   "source": [
    "#Observation: use k=1 to train and evalute classifier data;\n",
    "\n",
    "model = KNeighborsClassifier(n_neighbors=kVals[i])\n",
    "model.fit( trainData, trainLabels)\n",
    "predictions = model.predict(testData)\n",
    "\n",
    "#show a final classification report demonstrating the accuracy of the classifier for each digits\n",
    "print(\"EVALUATION ON TESTING DATA\")\n",
    "print( classification_report(testLabels, predictions ))\n"
   ]
  },
  {
   "cell_type": "markdown",
   "metadata": {},
   "source": [
    "**Observation**: 0,2,6, and 7 are classified 100% and digit 1 obtains the lowest classification accurancy of 95%.<br>\n",
    "In real-time examples, need to extract features vectors from each digit rather than raw pixel intensities of the image and Euclid distance between raw pixels intensities lead to high accuracy classifiers."
   ]
  },
  {
   "cell_type": "code",
   "execution_count": 16,
   "metadata": {},
   "outputs": [
    {
     "name": "stdout",
     "output_type": "stream",
     "text": [
      "I think the digit is:2\n",
      "I think the digit is:5\n",
      "I think the digit is:0\n",
      "I think the digit is:6\n",
      "I think the digit is:5\n"
     ]
    },
    {
     "data": {
      "image/png": "[encoded data removed]",
      "text/plain": [
       "<matplotlib.figure.Figure at 0x7ff291209588>"
      ]
     },
     "metadata": {},
     "output_type": "display_data"
    },
    {
     "data": {
      "image/png": "[encoded data removed]",
      "text/plain": [
       "<matplotlib.figure.Figure at 0x7ff2939a05f8>"
      ]
     },
     "metadata": {},
     "output_type": "display_data"
    },
    {
     "data": {
      "image/png": "[encoded data removed]",
      "text/plain": [
       "<matplotlib.figure.Figure at 0x7ff293d07470>"
      ]
     },
     "metadata": {},
     "output_type": "display_data"
    },
    {
     "data": {
      "image/png": "[encoded data removed]",
      "text/plain": [
       "<matplotlib.figure.Figure at 0x7ff293bd3dd8>"
      ]
     },
     "metadata": {},
     "output_type": "display_data"
    },
    {
     "data": {
      "image/png": "[encoded data removed]",
      "text/plain": [
       "<matplotlib.figure.Figure at 0x7ff29361cac8>"
      ]
     },
     "metadata": {},
     "output_type": "display_data"
    }
   ],
   "source": [
    "\n",
    "#loop over the few random digits\n",
    "for i in list(map(int, np.random.randint(0, high=len(testLabels), size=(5,)))):\n",
    "    # grab the image and classify it\n",
    "    image = testData[i]\n",
    "    prediction = model.predict(image.reshape(1,-1))[0]\n",
    "    \n",
    "    #convert image of 64-dim to an 8x8 image compatible with opencv, resize it to 32x32 pixels\n",
    "    image = image.reshape((8, 8)).astype(\"uint8\")\n",
    "    image = exposure.rescale_intensity(image, out_range=(0,255))\n",
    "    image = imutils.resize(image, width=32, inter=cv2.INTER_CUBIC )\n",
    "    # show the prediction\n",
    "    print(\"I think the digit is:{}\".format(prediction))\n",
    "    plt.figure()\n",
    "    plt.imshow(image)\n",
    "    "
   ]
  },
  {
   "cell_type": "code",
   "execution_count": null,
   "metadata": {
    "collapsed": true
   },
   "outputs": [],
   "source": []
  }
 ],
 "metadata": {
  "kernelspec": {
   "display_name": "Python 3",
   "language": "python",
   "name": "python3"
  },
  "language_info": {
   "codemirror_mode": {
    "name": "ipython",
    "version": 3
   },
   "file_extension": ".py",
   "mimetype": "text/x-python",
   "name": "python",
   "nbconvert_exporter": "python",
   "pygments_lexer": "ipython3",
   "version": "3.6.3"
  }
 },
 "nbformat": 4,
 "nbformat_minor": 2
}
