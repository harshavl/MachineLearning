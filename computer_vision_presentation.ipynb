{
 "cells": [
  {
   "cell_type": "markdown",
   "metadata": {
    "slideshow": {
     "slide_type": "slide"
    }
   },
   "source": [
    "\n",
    "#  Computer Vision in Artificial Intelligence(AI) automation <br>\n",
    "\n",
    "Harsha (Automation Team)"
   ]
  },
  {
   "cell_type": "markdown",
   "metadata": {
    "slideshow": {
     "slide_type": "slide"
    }
   },
   "source": [
    "## Agenda <br>\n",
    "1. Application of computer vision<br>\n",
    "1. Basic introduction to Images<br>\n",
    "2. Representation of image <br>\n",
    "3. Challenges <br>\n",
    "4. Types of Learning <br>\n",
    "5. Sample projects on computer vision <br>"
   ]
  },
  {
   "cell_type": "markdown",
   "metadata": {
    "slideshow": {
     "slide_type": "slide"
    }
   },
   "source": [
    "### 1. Application of computer vision <br>\n",
    "\n",
    "1. Retail and Retail Security: [Amazon Go](https://www.amazon.com/b?ie=UTF8&node=16008589011) stores fitted with cameras specialized in computer vision. <br>\n",
    "\n",
    "2. Automotive: [Waymo](https://waymo.com/) and [autopilot](https://www.tesla.com/autopilot) are developed self-driving car projects to reduce [traffic incidents](https://www.who.int/news-room/fact-sheets/detail/road-traffic-injuries) <br>\n",
    "\n",
    "3. Healthcare: computer vision technology is helping to [classify conditions or illness](https://emerj.com/ai-sector-overviews/machine-learning-medical-diagnostics-4-current-applications/) that may potentially save patients.<br>\n",
    "[Gauss Surgical](http://www.gausssurgical.com/) blood monitoring tool. <br>\n",
    "[Derm Lens](https://aws.amazon.com/deeplens/community-projects/DermLens/) manage psoriasis treatment.\n",
    "\n",
    "4. Agriculture: [Agriculture AI applications](https://emerj.com/ai-sector-overviews/ai-agriculture-present-applications-impact/) <br>\n",
    "[Slantrange](https://www.slantrange.com/) uses computer vision-equipped drones measure and monitor the condition of crops. <br>\n",
    "\n",
    "5. Banking: [AI Banking](https://emerj.com/ai-sector-overviews/ai-in-banking-analysis/) has involved fraud detection.<br>\n",
    "\n",
    "6. Industrial: [Osprey Informatics](http://www.ospreyinformatics.com/customers/) used to monitor the status of critical infrastructure such as remote wells, industrial facilities, work activity and site security.<br>"
   ]
  },
  {
   "cell_type": "markdown",
   "metadata": {
    "slideshow": {
     "slide_type": "slide"
    }
   },
   "source": [
    "### 2 Image Basics<br>\n",
    "What's a pixel?<br>\n",
    "- Pixels are the raw building blocks of an image. Every image consists of a set of pixels. There is no finer granularity than the pixel.<br>\n",
    "- a pixel is considered the “color” or the “intensity” of light that appears in a given place in our image.<br>\n",
    "\n",
    "Figure has a resolution of 960 x 720, meaning 960 wide and 720 pixels tall.: \n",
    "![alt text](./images/1.jpg \"Logo Title Text 1\")\n"
   ]
  },
  {
   "cell_type": "markdown",
   "metadata": {
    "slideshow": {
     "slide_type": "slide"
    }
   },
   "source": [
    "###  Representation of Images<br>\n",
    "Two ways: Grayscale and color.<br>\n",
    "<br>\n",
    "Grayscale: Each pixels has a value between 0 and 255, where zero is \"black\" and 255 is \"white\".<br>\n",
    "The values in between 0 and 255 are varying shades of gray.<br>\n",
    "\n",
    "![alt text](./images/2.jpg \"Logo Title Text 1\")"
   ]
  },
  {
   "cell_type": "markdown",
   "metadata": {
    "slideshow": {
     "slide_type": "slide"
    }
   },
   "source": [
    "RGB: The Red, Green, and Blue components of an image. \n",
    "![alt text](./images/3.jpg \"Logo Title Text 1\")\n"
   ]
  },
  {
   "cell_type": "markdown",
   "metadata": {
    "slideshow": {
     "slide_type": "slide"
    }
   },
   "source": [
    "The RGB color space is commonly visualized as a cube.<br>\n",
    "![alt text](./images/4.jpg \"Logo Title Text 1\")"
   ]
  },
  {
   "cell_type": "markdown",
   "metadata": {
    "slideshow": {
     "slide_type": "slide"
    }
   },
   "source": [
    "RGB color is defined as a 3-valued tuple, with each value in the range [0, 255] <br>\n",
    "![alt text](./images/5.jpg \"Logo Title Text 1\")"
   ]
  },
  {
   "cell_type": "markdown",
   "metadata": {
    "slideshow": {
     "slide_type": "slide"
    }
   },
   "source": [
    "**HSV ( Hue, Saturation and Value) color** space transforms the RGB color space, remodeling it as a cylinder rather than a cube.<br>\n",
    "\n",
    "Hue: Which “pure” color we are examining. For example, all shadows and tones of the color “red” will have the same Hue.<br>\n",
    "Saturation: How “white” the color is. A fully saturated color would be “pure,” as in “pure red.” And a color with zero saturation would be pure white.<br>\n",
    "Value: The Value allows us to control the lightness of our color. A Value of zero would indicate pure black, whereas increasing the value would produce lighter colors.<br>\n",
    "![alt text](./images/6.jpg \"Logo Title Text 1\")\n",
    "\n",
    "<br>\n",
    "Drawback: HSV color space is more intuitive but does not do the best job in represting how humans see and interpret colors in images.\n"
   ]
  },
  {
   "cell_type": "markdown",
   "metadata": {
    "slideshow": {
     "slide_type": "slide"
    }
   },
   "source": [
    "**L.a.b**: Goal is to mimic the methodology in which humans see and interpret color and its using *euclidean distance* the two arbitrary colors.<br>\n",
    "L-channel: The “lightness” of the pixel. This value goes up and down the vertical axis, white to black, with neutral grays at the center of the axis.<br>\n",
    "a-channel: Originates from the center of the L-channel and defines pure green on one end of the spectrum and pure red on the other.<br>\n",
    "b-channel: Also originates from the center of the L-channel, but is perpendicular to the a-channel. The b-channel defines pure blue at one of the spectrum and pure yellow at the other.<br>\n",
    "<br>\n",
    "![alt text](./images/7.jpg \"Logo Title Text 1\")\n",
    "\n",
    "This method is heavily used in the computer vision due to powerful color image descriptor."
   ]
  },
  {
   "cell_type": "markdown",
   "metadata": {
    "slideshow": {
     "slide_type": "slide"
    }
   },
   "source": [
    "### 3 Representation of Images\n",
    "\n",
    "what is the difference the two photos?<br>\n",
    "A cat on the left and a dog on the right.<br>\n",
    "![alt text](./images/17.jpg \"Logo Title Text 1\")\n",
    "\n"
   ]
  },
  {
   "cell_type": "markdown",
   "metadata": {
    "slideshow": {
     "slide_type": "slide"
    }
   },
   "source": [
    "But all a computer sees in two big matrices of pixels.<br>\n",
    "![alt text](./images/18.jpg \"Logo Title Text 1\")\n",
    "<br>\n",
    "How do we encode all this information that a computer can understand? <br>\n",
    "The answer is [Image descriptors ](https://en.wikipedia.org/wiki/Visual_descriptor) and [Deep Learning](https://www.coursera.org/learn/machine-learning)"
   ]
  },
  {
   "cell_type": "markdown",
   "metadata": {
    "slideshow": {
     "slide_type": "slide"
    }
   },
   "source": [
    "### 4 Challenges\n",
    "\n",
    "- View Point variation: Object can be rotated in mulitple dimensions with respect to how the objec is photographed and captured.<br>\n",
    "No Matter the angle in which we capture out Raspberry Pi, it's still a Raspberry Pi.\n",
    "\n",
    "![alt text](./images/19.jpg \"Logo Title Text 1\")"
   ]
  },
  {
   "cell_type": "markdown",
   "metadata": {
    "slideshow": {
     "slide_type": "slide"
    }
   },
   "source": [
    "- Scale Variations: Technically, they are all the same thing - a cup of coffee.But different in the size.\n",
    "Image Classifications  methods must be able to tolerate these types of scale variations.\n",
    "<br>\n",
    "<br>\n",
    "\n",
    "![alt text](./images/20.jpg \"Logo Title Text 1\")"
   ]
  },
  {
   "cell_type": "markdown",
   "metadata": {
    "slideshow": {
     "slide_type": "slide"
    }
   },
   "source": [
    "- Deformation: This is one of the hardest variations to account.<br>\n",
    "For example, Television series [Gumpy](https://en.wikipedia.org/wiki/Gumby). All images contain the *Gumpy* character.But all dramatically differ from each other.<br>\n",
    "![alt text](./images/21.jpg \"Logo Title Text 1\")\n"
   ]
  },
  {
   "cell_type": "markdown",
   "metadata": {
    "slideshow": {
     "slide_type": "slide"
    }
   },
   "source": [
    "- Occlusions: Objects are hidden from view in the image.<br>\n",
    "for example, In left and right picture has a same dog. But, most visible in left and hidden in the right.<br>\n",
    "Image classification algorithms should still be able to detect and label the presence of the dog in both images.<br>\n",
    "![alt text](./images/22.jpg \"Logo Title Text 1\")"
   ]
  },
  {
   "cell_type": "markdown",
   "metadata": {
    "slideshow": {
     "slide_type": "slide"
    }
   },
   "source": [
    "- Illuminations: An object can look very different based on lighting conditions.<br>\n",
    "For examples, In left was photographed with standdard overhead lighting and in right with little lighting. while examining cup looks dramatically different.<br>\n",
    "\n",
    "![alt text](./images/23.jpg \"Logo Title Text 1\")"
   ]
  },
  {
   "cell_type": "markdown",
   "metadata": {
    "slideshow": {
     "slide_type": "slide"
    }
   },
   "source": [
    "- Background clutter: find an object in a noisy image.<br>\n",
    "For example, a famous game of [Where’s Waldo?](https://en.wikipedia.org/wiki/Where's_Wally%3F )  we are interested in one particular object in the image and due to \"noise\" its not easy to pick Waldo/Wally.<br>\n",
    "If it's not easy for us, then imagine how hard it's for a computer.\n",
    "![alt text](./images/24.jpg \"Logo Title Text 1\")"
   ]
  },
  {
   "cell_type": "markdown",
   "metadata": {
    "slideshow": {
     "slide_type": "slide"
    }
   },
   "source": [
    "- Intra-class variation: A class contains the same set of object, doesn't mean the objects are visually similar.<br>\n",
    "For example, the diversification of chairs.<br>\n",
    "Image Classifications algorithms must be able to categorize all these variations correctly.\n",
    "![alt text](./images/25.jpg \"Logo Title Text 1\")"
   ]
  },
  {
   "cell_type": "markdown",
   "metadata": {
    "slideshow": {
     "slide_type": "slide"
    }
   },
   "source": [
    "### 4 Types of Learning\n",
    "<br>\n",
    "Two primary types of machine learning<br>\n",
    "\n",
    "- Supervised learning:  we are given a data set and already know what our correct output should look like, having the idea that there is a relationship between the input and the output.<br>\n",
    "Supervised learning problems are categorized into “regression” and “classification” problems.<br>\n",
    "(a) Regression — Given a picture of a person, we have to predict their age on the basis of the given picture.<br>\n",
    "(b) Classification — Given a patient with a tumor, we have to predict whether the tumor is malignant or benign.<br>\n"
   ]
  },
  {
   "cell_type": "markdown",
   "metadata": {
    "slideshow": {
     "slide_type": "fragment"
    }
   },
   "source": [
    "- Unsupervised learning: allows us to approach problems with little or no idea what our results should look like. We can derive structure from data where we don’t necessarily know the effect of the variables.<br>\n",
    "<br>\n",
    "(a)Clustering: A clustering problem is where you want to discover the inherent groupings in the data, such as grouping customers by purchasing behavior.<br>\n",
    "(b)Association:  An association rule learning problem is where you want to discover rules that describe large portions of your data, such as people that buy X also tend to buy Y.<br>\n",
    "<br>\n"
   ]
  },
  {
   "cell_type": "markdown",
   "metadata": {
    "slideshow": {
     "slide_type": "slide"
    }
   },
   "source": [
    "### 5 Projects using computer vision"
   ]
  },
  {
   "cell_type": "markdown",
   "metadata": {
    "slideshow": {
     "slide_type": "slide"
    }
   },
   "source": [
    "[Create a beautiful art works using neural style transfer](https://arxiv.org/abs/1508.06576)<br>\n",
    "<br>\n",
    "For example: [Deep art work](https://deepart.io/pricing/) is  <br>\n",
    "\n",
    "input: hampi image<br>\n",
    "Style: [Vincent van Gogh’s ](https://en.wikipedia.org/wiki/Vincent_van_Gogh)\n",
    "\n",
    "![alt text](./images/neural.jpg \"Logo Title Text 1\")\n",
    "\n",
    "\n"
   ]
  },
  {
   "cell_type": "markdown",
   "metadata": {
    "slideshow": {
     "slide_type": "slide"
    }
   },
   "source": [
    "[Text detection in an image](https://arxiv.org/abs/1704.03155)<br>\n",
    "input: Image file<br>\n",
    "output: Text marked as box<br>\n",
    "Usage: Pass port verification and Inscription reading. <br>\n",
    "![alt text](./images/text_detect.PNG \"Logo Title Text 1\")\n"
   ]
  },
  {
   "cell_type": "markdown",
   "metadata": {
    "slideshow": {
     "slide_type": "slide"
    }
   },
   "source": [
    "[Breaking CAPTCHA](https://medium.com/mlmemoirs/breaking-captcha-using-machine-learning-in-0-05-seconds-9feefb997694)<br>\n",
    "Usage: Automate connect to remote server by passing re-captcha.<br>\n",
    "![alt text](./images/captcha.PNG \"Logo Title Text 1\")"
   ]
  },
  {
   "cell_type": "markdown",
   "metadata": {
    "slideshow": {
     "slide_type": "slide"
    }
   },
   "source": [
    "[Face Detection](https://ppao.pyimagesearch.com/wp-content/uploads/2016/08/viola2001.pdf)<br>\n",
    "Descripton: Detect the faces in an images.\n",
    "![alt text](./images/face_detect.PNG \"Logo Title Text 1\")"
   ]
  },
  {
   "cell_type": "markdown",
   "metadata": {
    "slideshow": {
     "slide_type": "slide"
    }
   },
   "source": [
    "[Plant Classification](http://www.robots.ox.ac.uk/~vgg/data/flowers/17/index.html) <br>\n",
    "![alt text](./images/plant.PNG \"Logo Title Text 1\")"
   ]
  },
  {
   "cell_type": "markdown",
   "metadata": {
    "slideshow": {
     "slide_type": "slide"
    }
   },
   "source": [
    "Multi-label classfications<br>\n",
    "Categorize the Clothing type and color from images.<br>\n",
    "![alt text](./images/mulit_label.PNG \"Logo Title Text 1\")"
   ]
  },
  {
   "cell_type": "markdown",
   "metadata": {
    "slideshow": {
     "slide_type": "slide"
    }
   },
   "source": [
    "### Thank you"
   ]
  },
  {
   "cell_type": "code",
   "execution_count": null,
   "metadata": {},
   "outputs": [],
   "source": []
  }
 ],
 "metadata": {
  "celltoolbar": "Slideshow",
  "kernelspec": {
   "display_name": "Python 3",
   "language": "python",
   "name": "python3"
  },
  "language_info": {
   "codemirror_mode": {
    "name": "ipython",
    "version": 3
   },
   "file_extension": ".py",
   "mimetype": "text/x-python",
   "name": "python",
   "nbconvert_exporter": "python",
   "pygments_lexer": "ipython3",
   "version": "3.7.1"
  }
 },
 "nbformat": 4,
 "nbformat_minor": 2
}
